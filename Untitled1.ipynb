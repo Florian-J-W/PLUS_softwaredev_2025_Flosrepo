{
 "cells": [
  {
   "cell_type": "code",
   "execution_count": 5,
   "id": "664c3d3a-da29-4321-8de3-83275a947e7c",
   "metadata": {},
   "outputs": [],
   "source": [
    "import handson"
   ]
  },
  {
   "cell_type": "code",
   "execution_count": null,
   "id": "99e788ac-39b3-471b-b1e9-74114de7b373",
   "metadata": {},
   "outputs": [],
   "source": [
    "handsom.say_hello(\"\")"
   ]
  }
 ],
 "metadata": {
  "kernelspec": {
   "display_name": "Python 3 (ipykernel)",
   "language": "python",
   "name": "python3"
  },
  "language_info": {
   "codemirror_mode": {
    "name": "ipython",
    "version": 3
   },
   "file_extension": ".py",
   "mimetype": "text/x-python",
   "name": "python",
   "nbconvert_exporter": "python",
   "pygments_lexer": "ipython3",
   "version": "3.11.10"
  }
 },
 "nbformat": 4,
 "nbformat_minor": 5
}
